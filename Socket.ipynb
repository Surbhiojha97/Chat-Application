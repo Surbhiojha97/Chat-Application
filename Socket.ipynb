{
 "cells": [
  {
   "cell_type": "code",
   "execution_count": 1,
   "id": "83029f9d",
   "metadata": {},
   "outputs": [
    {
     "name": "stdout",
     "output_type": "stream",
     "text": [
      "Overwriting receiver.py\n"
     ]
    }
   ],
   "source": [
    "%%writefile receiver.py\n",
    "import socket\n",
    "import os\n",
    "r_socket = socket.socket(socket.AF_INET,socket.SOCK_STREAM)\n",
    "ip = socket.gethostbyname(socket.gethostname())\n",
    "port = 12534\n",
    "r_socket.connect((ip,port))\n",
    "print(f\"Got connected with {ip} : {port}\")\n",
    "\n",
    "while True:\n",
    "    rmsg = input(\"\\n\\nReceiver--> \") \n",
    "    \n",
    "    if rmsg.lower().strip()==\"done\":\n",
    "        print(\"Thank you for sharing!!!\")\n",
    "        r_socket.close()\n",
    "        break\n",
    "    else:\n",
    "        r_socket.send(rmsg.encode())\n",
    "        break\n",
    "        \n",
    "    smsg = r_socket.recv(1024)\n",
    "    if smsg.decode().lower().strip()==\"decline\":\n",
    "        print(\"No such file to transfer!!!!\")\n",
    "        r_socket.close()\n",
    "        break\n",
    "    elif smsg.decode().lower().strip()==\"accepted\":\n",
    "        newfile = input(\"\\n Name of file in which you want to save --> \")\n",
    "        with open(newfile, 'wb') as fp:\n",
    "            line = r_socket.recv(1024)\n",
    "            while line:\n",
    "                fp.write(line)\n",
    "                line = r_socket.recv(1024)\n",
    "        print(\"\\n RECEIVED FILE SUCCESSFULLY...\")\n",
    "\n",
    "    "
   ]
  },
  {
   "cell_type": "code",
   "execution_count": 6,
   "id": "cacd2965",
   "metadata": {},
   "outputs": [
    {
     "name": "stdout",
     "output_type": "stream",
     "text": [
      "Overwriting sender.py\n"
     ]
    }
   ],
   "source": [
    "%%writefile sender.py\n",
    "import socket\n",
    "import os\n",
    "s_socket = socket.socket(socket.AF_INET,socket.SOCK_STREAM)\n",
    "ip = socket.gethostbyname(socket.gethostname())\n",
    "port = 12534\n",
    "s_socket.bind((ip,port))\n",
    "print(\"Sender waiting for request!!\")\n",
    "s_socket.listen()\n",
    "r_socket,r_add = s_socket.accept()\n",
    "\n",
    "while True:\n",
    "    \n",
    "    smsg = input(\"\\n\\n Sender--> \")\n",
    "   \n",
    "    if smsg.lower().strip()==\"decline\":\n",
    "        print(\"No such file exists!!!\")\n",
    "        s_socket.close()\n",
    "        r_socket.close()\n",
    "        break\n",
    "    else:\n",
    "        r_socket.send(smsg.encode())\n",
    "        \n",
    "    rsmsg = r_socket.recv(1024)    \n",
    "    if rmsg.decode().lower().strip()==\"done\":\n",
    "        print(\"Task completed!!!\")\n",
    "        s_socket.close()\n",
    "        r_socket.close()\n",
    "        break\n",
    "    else:\n",
    "        file = client_socket.recv(1024).decode()\n",
    "        if os.path.exists(file):\n",
    "            client_socket.send(\"Sending File..\".encode())\n",
    "            with open(file, 'rb') as fp:\n",
    "                while line:=fp.readline():\n",
    "                    client_socket.send(line)\n",
    "                    print(\"\\n SEND FILE SUCCESSFULLY\")\n",
    "                else:\n",
    "                    client_socket.send(\"File Does Not Exists..\".encode())"
   ]
  },
  {
   "cell_type": "code",
   "execution_count": null,
   "id": "5ea440bf",
   "metadata": {},
   "outputs": [],
   "source": []
  }
 ],
 "metadata": {
  "kernelspec": {
   "display_name": "Python 3 (ipykernel)",
   "language": "python",
   "name": "python3"
  },
  "language_info": {
   "codemirror_mode": {
    "name": "ipython",
    "version": 3
   },
   "file_extension": ".py",
   "mimetype": "text/x-python",
   "name": "python",
   "nbconvert_exporter": "python",
   "pygments_lexer": "ipython3",
   "version": "3.9.7"
  }
 },
 "nbformat": 4,
 "nbformat_minor": 5
}
